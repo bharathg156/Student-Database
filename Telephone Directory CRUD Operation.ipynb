{
 "cells": [
  {
   "cell_type": "code",
   "execution_count": 1,
   "id": "04f1e1f6",
   "metadata": {},
   "outputs": [
    {
     "name": "stdout",
     "output_type": "stream",
     "text": [
      "Defaulting to user installation because normal site-packages is not writeable\n",
      "Requirement already satisfied: pymongo in c:\\users\\bharath.g\\appdata\\roaming\\python\\python39\\site-packages (4.3.2)\n",
      "Requirement already satisfied: dnspython<3.0.0,>=1.16.0 in c:\\users\\bharath.g\\appdata\\roaming\\python\\python39\\site-packages (from pymongo) (2.2.1)\n",
      "Note: you may need to restart the kernel to use updated packages.\n"
     ]
    }
   ],
   "source": [
    "pip install pymongo"
   ]
  },
  {
   "cell_type": "code",
   "execution_count": 2,
   "id": "44efdc18",
   "metadata": {},
   "outputs": [],
   "source": [
    "from pymongo import MongoClient"
   ]
  },
  {
   "cell_type": "code",
   "execution_count": 3,
   "id": "85040dbe",
   "metadata": {},
   "outputs": [],
   "source": [
    "client=MongoClient('mongodb://localhost:27017')"
   ]
  },
  {
   "cell_type": "code",
   "execution_count": 4,
   "id": "d57bda50",
   "metadata": {},
   "outputs": [
    {
     "data": {
      "text/plain": [
       "Database(MongoClient(host=['localhost:27017'], document_class=dict, tz_aware=False, connect=True), 'test')"
      ]
     },
     "execution_count": 4,
     "metadata": {},
     "output_type": "execute_result"
    }
   ],
   "source": [
    "client.test"
   ]
  },
  {
   "cell_type": "code",
   "execution_count": 5,
   "id": "8c70524e",
   "metadata": {},
   "outputs": [],
   "source": [
    "db=client['Telephone']"
   ]
  },
  {
   "cell_type": "code",
   "execution_count": 6,
   "id": "843e69ae",
   "metadata": {},
   "outputs": [],
   "source": [
    "#inserted collection\n",
    "my_col3=db['Data']"
   ]
  },
  {
   "cell_type": "code",
   "execution_count": 7,
   "id": "50f9eb99",
   "metadata": {},
   "outputs": [
    {
     "data": {
      "text/plain": [
       "<pymongo.results.InsertOneResult at 0x24c463d0820>"
      ]
     },
     "execution_count": 7,
     "metadata": {},
     "output_type": "execute_result"
    }
   ],
   "source": [
    "#inserted document\n",
    "my_col3.insert_one({'Name':'Devraj','Phone_Number':8957125242,'Place':'Chennai'})"
   ]
  },
  {
   "cell_type": "code",
   "execution_count": 8,
   "id": "cc5f3425",
   "metadata": {},
   "outputs": [
    {
     "data": {
      "text/plain": [
       "['Students2',\n",
       " 'Telephone',\n",
       " 'Telephone_Directory',\n",
       " 'admin',\n",
       " 'config',\n",
       " 'details',\n",
       " 'local',\n",
       " 'student1']"
      ]
     },
     "execution_count": 8,
     "metadata": {},
     "output_type": "execute_result"
    }
   ],
   "source": [
    "client.list_database_names()"
   ]
  },
  {
   "cell_type": "code",
   "execution_count": 10,
   "id": "8665c2ad",
   "metadata": {},
   "outputs": [
    {
     "data": {
      "text/plain": [
       "['Data']"
      ]
     },
     "execution_count": 10,
     "metadata": {},
     "output_type": "execute_result"
    }
   ],
   "source": [
    "db.list_collection_names()"
   ]
  },
  {
   "cell_type": "code",
   "execution_count": 14,
   "id": "8eb8c2c6",
   "metadata": {},
   "outputs": [
    {
     "data": {
      "text/plain": [
       "<pymongo.results.InsertManyResult at 0x24c46e9a9d0>"
      ]
     },
     "execution_count": 14,
     "metadata": {},
     "output_type": "execute_result"
    }
   ],
   "source": [
    "#inserted list of documents\n",
    "\n",
    "details=[{'Name':'Bharath','Phone_Number':8574562515,'Place':'Bangalore'},{'Name':'Koushik','Phone_Number':8571152585,'Place':'Mangalore'},{'Name':'Karthik','Phone_Number':8527451255,'Place':'Mysore'}]\n",
    "my_col3.insert_many(details)\n"
   ]
  },
  {
   "cell_type": "code",
   "execution_count": 16,
   "id": "7958d86c",
   "metadata": {},
   "outputs": [
    {
     "name": "stdout",
     "output_type": "stream",
     "text": [
      "{'_id': ObjectId('63847969567edd754bc370b5'), 'Name': 'Devraj', 'Phone_Number': 8957125242, 'Place': 'Chennai'}\n",
      "{'_id': ObjectId('63847d83567edd754bc370b6'), 'Name': 'Bharath', 'Phone_Number': 8574562515, 'Place': 'Bangalore'}\n",
      "{'_id': ObjectId('63847d83567edd754bc370b7'), 'Name': 'Koushik', 'Phone_Number': 8571152585, 'Place': 'Mangalore'}\n",
      "{'_id': ObjectId('63847d83567edd754bc370b8'), 'Name': 'Karthik', 'Phone_Number': 8527451255, 'Place': 'Mysore'}\n"
     ]
    }
   ],
   "source": [
    "#Retrive the data\n",
    "for i in my_col3.find():\n",
    "    print(i)"
   ]
  },
  {
   "cell_type": "code",
   "execution_count": 17,
   "id": "e8270e86",
   "metadata": {},
   "outputs": [
    {
     "data": {
      "text/plain": [
       "<pymongo.results.UpdateResult at 0x24c47fd4f70>"
      ]
     },
     "execution_count": 17,
     "metadata": {},
     "output_type": "execute_result"
    }
   ],
   "source": [
    "#update the data\n",
    "my_col3.update_one({'Phone_Number':8957125242},{'$set':{'Phone_Number':9857264215}})"
   ]
  },
  {
   "cell_type": "code",
   "execution_count": 21,
   "id": "816699c8",
   "metadata": {},
   "outputs": [
    {
     "name": "stdout",
     "output_type": "stream",
     "text": [
      "{'_id': ObjectId('63847969567edd754bc370b5'), 'Name': 'Devraj', 'Phone_Number': 9857264215, 'Place': 'Chennai'}\n"
     ]
    }
   ],
   "source": [
    "for i in my_col3.find({'Phone_Number': 9857264215}):\n",
    "    print(i)"
   ]
  },
  {
   "cell_type": "code",
   "execution_count": 22,
   "id": "a039a1a5",
   "metadata": {},
   "outputs": [
    {
     "data": {
      "text/plain": [
       "<pymongo.results.DeleteResult at 0x24c48034fa0>"
      ]
     },
     "execution_count": 22,
     "metadata": {},
     "output_type": "execute_result"
    }
   ],
   "source": [
    "#deleted data\n",
    "my_col3.delete_one({'Phone_Number': 8571152585})"
   ]
  },
  {
   "cell_type": "code",
   "execution_count": 23,
   "id": "c337c9ea",
   "metadata": {},
   "outputs": [
    {
     "name": "stdout",
     "output_type": "stream",
     "text": [
      "{'_id': ObjectId('63847969567edd754bc370b5'), 'Name': 'Devraj', 'Phone_Number': 9857264215, 'Place': 'Chennai'}\n",
      "{'_id': ObjectId('63847d83567edd754bc370b6'), 'Name': 'Bharath', 'Phone_Number': 8574562515, 'Place': 'Bangalore'}\n",
      "{'_id': ObjectId('63847d83567edd754bc370b8'), 'Name': 'Karthik', 'Phone_Number': 8527451255, 'Place': 'Mysore'}\n"
     ]
    }
   ],
   "source": [
    "for i in my_col3.find():\n",
    "    print(i)"
   ]
  },
  {
   "cell_type": "code",
   "execution_count": null,
   "id": "aeda663a",
   "metadata": {},
   "outputs": [],
   "source": []
  }
 ],
 "metadata": {
  "kernelspec": {
   "display_name": "Python 3 (ipykernel)",
   "language": "python",
   "name": "python3"
  },
  "language_info": {
   "codemirror_mode": {
    "name": "ipython",
    "version": 3
   },
   "file_extension": ".py",
   "mimetype": "text/x-python",
   "name": "python",
   "nbconvert_exporter": "python",
   "pygments_lexer": "ipython3",
   "version": "3.9.12"
  }
 },
 "nbformat": 4,
 "nbformat_minor": 5
}
